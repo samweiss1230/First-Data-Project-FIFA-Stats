{
 "cells": [
  {
   "cell_type": "code",
   "execution_count": null,
   "id": "490b7697-8c78-4c81-a9f5-115a40fcabcf",
   "metadata": {},
   "outputs": [],
   "source": [
    "import pandas as pd\n",
    "import numpy as np\n",
    "goalscorers = pd.read_csv('goalscorers.csv')\n",
    "results = pd.read_csv('results.csv')\n",
    "shootouts = pd.read_csv('shootouts.csv')"
   ]
  },
  {
   "cell_type": "code",
   "execution_count": 1964,
   "id": "effd00ff-73fe-4d04-8982-734a85a9aad3",
   "metadata": {},
   "outputs": [],
   "source": [
    "results_FIFA = results[results['tournament'].isin(['FIFA World Cup'])]"
   ]
  },
  {
   "cell_type": "code",
   "execution_count": null,
   "id": "5bd032a6-d01c-49c2-8efe-1acdb23f9f45",
   "metadata": {},
   "outputs": [],
   "source": [
    "shootouts = shootouts.drop('first_shooter', axis=1)"
   ]
  },
  {
   "cell_type": "code",
   "execution_count": 1968,
   "id": "75150969-5d21-4be5-880e-5d144b992146",
   "metadata": {},
   "outputs": [],
   "source": [
    "goalscorers = goalscorers.rename(columns = {'team' : 'goalscorer_team'})"
   ]
  },
  {
   "cell_type": "code",
   "execution_count": 1971,
   "id": "8cc938fe-149d-4bab-9451-5547896ae912",
   "metadata": {},
   "outputs": [],
   "source": [
    "shootouts = shootouts.drop(['home_team', 'away_team'], axis=1)"
   ]
  },
  {
   "cell_type": "code",
   "execution_count": 1973,
   "id": "079f2745-af03-4cad-9cf7-054a2788ba29",
   "metadata": {},
   "outputs": [],
   "source": [
    "shootouts = shootouts.rename(columns = {'winner' : 'shootout_winner'})"
   ]
  },
  {
   "cell_type": "code",
   "execution_count": 1975,
   "id": "b8679452-61fb-4374-be13-c33b8652fa67",
   "metadata": {},
   "outputs": [],
   "source": [
    "goalscorers = goalscorers.drop(['home_team', 'away_team'], axis=1)"
   ]
  },
  {
   "cell_type": "code",
   "execution_count": 1977,
   "id": "9a2ce4e9-72e4-454d-b153-9c5365de353e",
   "metadata": {},
   "outputs": [],
   "source": [
    "results_FIFA = results_FIFA.merge(shootouts, how='left', on=['date'])"
   ]
  },
  {
   "cell_type": "code",
   "execution_count": 1979,
   "id": "5babfeb5-3226-4c3b-9ae7-1318ad2d9b55",
   "metadata": {},
   "outputs": [],
   "source": [
    "results_FIFA = results_FIFA.merge(goalscorers, how='left', on=['date'])"
   ]
  },
  {
   "cell_type": "code",
   "execution_count": 1981,
   "id": "20061e84-20bf-4b93-9563-9bd700b2a918",
   "metadata": {
    "tags": []
   },
   "outputs": [],
   "source": [
    "results_FIFA['winning_team'] = results_FIFA['home_team'].where(results_FIFA['home_score'] > results_FIFA['away_score'], results_FIFA['away_team'])"
   ]
  },
  {
   "cell_type": "code",
   "execution_count": 1983,
   "id": "8f12ad51-6b3d-461c-b10b-349052dbbeef",
   "metadata": {},
   "outputs": [],
   "source": [
    "results_FIFA['losing_team'] = results_FIFA['home_team'].where(results_FIFA['home_score'] < results_FIFA['away_score'], results_FIFA['away_team'])"
   ]
  },
  {
   "cell_type": "code",
   "execution_count": 1985,
   "id": "c6121b42-87bd-4bbd-89bf-5f36723d8797",
   "metadata": {},
   "outputs": [],
   "source": [
    "results_FIFA['1stHalfScorer'] = results_FIFA['scorer'].where(results_FIFA['minute'] < 45, 'null')\n",
    "results_FIFA['2ndHalfScorer'] = results_FIFA['scorer'].where(results_FIFA['minute'] > 45, 'null')"
   ]
  },
  {
   "cell_type": "code",
   "execution_count": 1987,
   "id": "9616d6cc-d863-4a74-ac0d-022170efa39d",
   "metadata": {},
   "outputs": [],
   "source": [
    "results_FIFA['date'] = pd.to_datetime(results_FIFA['date'])\n",
    "results_FIFA['year'] = results_FIFA['date'].dt.year"
   ]
  },
  {
   "cell_type": "code",
   "execution_count": 1989,
   "id": "5d797424-66d8-4e27-b805-69668fbe61d9",
   "metadata": {},
   "outputs": [],
   "source": [
    "results_FIFA = results_FIFA.drop(results_FIFA[(results_FIFA['goalscorer_team'] != results_FIFA['home_team']) & (results_FIFA['goalscorer_team'] != results_FIFA['away_team'])].index)"
   ]
  },
  {
   "cell_type": "code",
   "execution_count": 1991,
   "id": "89e38984-0da7-4746-8c16-98e3b82fd4a4",
   "metadata": {},
   "outputs": [
    {
     "data": {
      "text/plain": [
       "winning_team\n",
       "Brazil       266\n",
       "Germany      242\n",
       "Argentina    160\n",
       "France       159\n",
       "Italy        134\n",
       "            ... \n",
       "Angola         2\n",
       "Honduras       2\n",
       "Kuwait         2\n",
       "Iceland        2\n",
       "Slovenia       1\n",
       "Name: count, Length: 68, dtype: int64"
      ]
     },
     "execution_count": 1991,
     "metadata": {},
     "output_type": "execute_result"
    }
   ],
   "source": [
    "results_FIFA['winning_team'].value_counts()"
   ]
  },
  {
   "cell_type": "code",
   "execution_count": 1548,
   "id": "cfeadc09-a3ea-4faf-a17c-8d3e69cd6e75",
   "metadata": {},
   "outputs": [],
   "source": [
    "win_percs = pd.DataFrame({\n",
    "    'Team': wins_losses['Team'],\n",
    "    'Win_Percentage': wins_losses['Wins'] / wins_losses['Losses']\n",
    "})"
   ]
  },
  {
   "cell_type": "code",
   "execution_count": 1993,
   "id": "6afc2978-c95a-4fc8-bb72-4612f99f5e74",
   "metadata": {},
   "outputs": [
    {
     "data": {
      "text/plain": [
       "losing_team\n",
       "Mexico                    111\n",
       "South Korea                97\n",
       "Argentina                  95\n",
       "Germany                    94\n",
       "Sweden                     85\n",
       "                         ... \n",
       "Trinidad and Tobago         4\n",
       "Czech Republic              4\n",
       "Bosnia and Herzegovina      4\n",
       "Angola                      3\n",
       "Israel                      2\n",
       "Name: count, Length: 82, dtype: int64"
      ]
     },
     "execution_count": 1993,
     "metadata": {},
     "output_type": "execute_result"
    }
   ],
   "source": [
    "results_FIFA['losing_team'].value_counts()"
   ]
  },
  {
   "cell_type": "code",
   "execution_count": 1995,
   "id": "00d6a584-963c-48bd-8040-533683292cb7",
   "metadata": {},
   "outputs": [
    {
     "data": {
      "text/plain": [
       "goalscorer_team\n",
       "Brazil         239\n",
       "Germany        232\n",
       "Argentina      154\n",
       "France         137\n",
       "Italy          128\n",
       "              ... \n",
       "Bolivia          1\n",
       "Angola           1\n",
       "Iraq             1\n",
       "El Salvador      1\n",
       "Qatar            1\n",
       "Name: count, Length: 78, dtype: int64"
      ]
     },
     "execution_count": 1995,
     "metadata": {},
     "output_type": "execute_result"
    }
   ],
   "source": [
    "results_FIFA['goalscorer_team'].value_counts()"
   ]
  },
  {
   "cell_type": "code",
   "execution_count": 1997,
   "id": "c21273f8-c126-4fd7-b9da-17cd0125dd2c",
   "metadata": {},
   "outputs": [
    {
     "data": {
      "text/plain": [
       "shootout_winner\n",
       "Croatia                23\n",
       "Argentina              20\n",
       "Germany                17\n",
       "Sweden                  7\n",
       "France                  7\n",
       "Morocco                 7\n",
       "Brazil                  6\n",
       "Bulgaria                5\n",
       "Spain                   5\n",
       "Uruguay                 5\n",
       "Costa Rica              5\n",
       "Belgium                 5\n",
       "Russia                  4\n",
       "England                 3\n",
       "Republic of Ireland     2\n",
       "Italy                   2\n",
       "South Korea             1\n",
       "Portugal                1\n",
       "Paraguay                1\n",
       "Netherlands             1\n",
       "Ukraine                 1\n",
       "Name: count, dtype: int64"
      ]
     },
     "execution_count": 1997,
     "metadata": {},
     "output_type": "execute_result"
    }
   ],
   "source": [
    "results_FIFA['shootout_winner'].value_counts()"
   ]
  },
  {
   "cell_type": "code",
   "execution_count": 1999,
   "id": "5ba1b5dc-0415-4add-a468-3f4322be8f7a",
   "metadata": {},
   "outputs": [
    {
     "data": {
      "text/plain": [
       "scorer\n",
       "Miroslav Klose      16\n",
       "Ronaldo             15\n",
       "Gerd Müller         14\n",
       "Lionel Messi        14\n",
       "Just Fontaine       13\n",
       "                    ..\n",
       "Luis Flores          1\n",
       "Colin Clarke         1\n",
       "Søren Lerby          1\n",
       "Enzo Francescoli     1\n",
       "Mislav Oršić         1\n",
       "Name: count, Length: 1435, dtype: int64"
      ]
     },
     "execution_count": 1999,
     "metadata": {},
     "output_type": "execute_result"
    }
   ],
   "source": [
    "results_FIFA['scorer'].value_counts()"
   ]
  },
  {
   "cell_type": "code",
   "execution_count": 2001,
   "id": "94319970-3032-48eb-8468-4d72f5048bae",
   "metadata": {
    "tags": []
   },
   "outputs": [],
   "source": [
    "team_year_appearances = results_FIFA.groupby(['home_team' or 'away_team', 'year']).size()"
   ]
  },
  {
   "cell_type": "code",
   "execution_count": 2003,
   "id": "856c6328-4007-448c-af67-843c3d73e86a",
   "metadata": {},
   "outputs": [],
   "source": [
    "team_year_counts = team_year_appearances.groupby('home_team' or 'away_team').count()"
   ]
  },
  {
   "cell_type": "code",
   "execution_count": 2005,
   "id": "42ee252c-b1f2-4891-be44-fd9e0f4e536b",
   "metadata": {
    "scrolled": true,
    "tags": []
   },
   "outputs": [
    {
     "data": {
      "text/plain": [
       "home_team\n",
       "Brazil         22\n",
       "Germany        20\n",
       "Argentina      18\n",
       "Italy          17\n",
       "England        16\n",
       "France         15\n",
       "Spain          14\n",
       "Belgium        12\n",
       "Mexico         12\n",
       "Netherlands    10\n",
       "dtype: int64"
      ]
     },
     "execution_count": 2005,
     "metadata": {},
     "output_type": "execute_result"
    }
   ],
   "source": [
    "team_year_counts.sort_values(ascending=False).head(10)"
   ]
  },
  {
   "cell_type": "code",
   "execution_count": 2007,
   "id": "8b332e91-7387-474e-9c99-735740680dc8",
   "metadata": {},
   "outputs": [],
   "source": [
    "results_FIFA2 = results_FIFA[['date', 'winning_team', 'losing_team', 'year']].copy()"
   ]
  },
  {
   "cell_type": "code",
   "execution_count": 2009,
   "id": "51b2428d-bc9b-4195-844a-a3498eaf50ec",
   "metadata": {
    "tags": []
   },
   "outputs": [],
   "source": [
    "home_wins = results_FIFA2[results_FIFA2['winning_team'] != 'Draw']['winning_team'].value_counts()\n",
    "away_wins = results_FIFA2[results_FIFA2['winning_team'] != 'Draw']['winning_team'].value_counts()\n",
    "\n",
    "total_wins = home_wins.add(away_wins, fill_value=0).astype(int)"
   ]
  },
  {
   "cell_type": "code",
   "execution_count": 2011,
   "id": "4c0e66c5-73ec-4dc9-82d6-4f17235ece7f",
   "metadata": {},
   "outputs": [],
   "source": [
    "brazil_wins = results_FIFA2[results_FIFA2['winning_team'] == 'Brazil']\n",
    "germany_wins = results_FIFA2[results_FIFA2['winning_team'] == 'Germany']\n",
    "argentina_wins = results_FIFA2[results_FIFA2['winning_team'] == 'Argentina']\n",
    "italy_wins = results_FIFA2[results_FIFA2['winning_team'] == 'Italy']\n",
    "england_wins = results_FIFA2[results_FIFA2['winning_team'] == 'England']\n",
    "france_wins = results_FIFA2[results_FIFA2['winning_team'] == 'France']\n",
    "spain_wins = results_FIFA2[results_FIFA2['winning_team'] == 'Spain']\n",
    "belgium_wins = results_FIFA2[results_FIFA2['winning_team'] == 'Belgium']\n",
    "mexico_wins = results_FIFA2[results_FIFA2['winning_team'] == 'Mexico']\n",
    "netherlands_wins = results_FIFA2[results_FIFA2['winning_team'] == 'Netherlands']"
   ]
  },
  {
   "cell_type": "code",
   "execution_count": 2013,
   "id": "4d996ab7-6f16-40b3-aa98-0792057eaf49",
   "metadata": {},
   "outputs": [],
   "source": [
    "teams = ['Brazil', 'Germany', 'Argentina', 'Italy', 'England', 'France', 'Spain', 'Belgium', 'Mexico', 'Netherlands']\n",
    "wins = [brazil_wins['winning_team'].count(), germany_wins['winning_team'].count(), argentina_wins['winning_team'].count(), italy_wins['winning_team'].count(), england_wins['winning_team'].count(), france_wins['winning_team'].count(), spain_wins['winning_team'].count(), belgium_wins['winning_team'].count(), mexico_wins['winning_team'].count(), netherlands_wins['winning_team'].count()]\n",
    "losses = [brazil_losses['losing_team'].count(), germany_losses['losing_team'].count(), argentina_losses['losing_team'].count(), italy_losses['losing_team'].count(), england_losses['losing_team'].count(), france_losses['losing_team'].count(), spain_losses['losing_team'].count(), belgium_losses['losing_team'].count(), mexico_losses['losing_team'].count(), netherlands_losses['losing_team'].count()]\n",
    "\n",
    "appearances = [22, 20, 18, 17, 16, 15, 14, 12, 12, 10]"
   ]
  },
  {
   "cell_type": "code",
   "execution_count": 2015,
   "id": "4ea06797-7926-4005-bf4b-af13d3eb0d11",
   "metadata": {},
   "outputs": [],
   "source": [
    "win_percs = pd.DataFrame({'Team': teams})"
   ]
  },
  {
   "cell_type": "code",
   "execution_count": 2017,
   "id": "6d24c363-a79a-43ff-aa3c-df88dbe91418",
   "metadata": {},
   "outputs": [],
   "source": [
    "win_percs['Wins'] = wins\n",
    "win_percs['Losses'] = losses\n",
    "win_percs['Win Percentage'] = win_percs['Wins'] / (win_percs['Wins'] + win_percs['Losses']) * 100\n",
    "win_percs['Appearances'] = appearances"
   ]
  },
  {
   "cell_type": "code",
   "execution_count": 2019,
   "id": "6a97be30-f98b-4d1a-9456-d2857a54338d",
   "metadata": {},
   "outputs": [
    {
     "data": {
      "text/html": [
       "<div>\n",
       "<style scoped>\n",
       "    .dataframe tbody tr th:only-of-type {\n",
       "        vertical-align: middle;\n",
       "    }\n",
       "\n",
       "    .dataframe tbody tr th {\n",
       "        vertical-align: top;\n",
       "    }\n",
       "\n",
       "    .dataframe thead th {\n",
       "        text-align: right;\n",
       "    }\n",
       "</style>\n",
       "<table border=\"1\" class=\"dataframe\">\n",
       "  <thead>\n",
       "    <tr style=\"text-align: right;\">\n",
       "      <th></th>\n",
       "      <th>Team</th>\n",
       "      <th>Wins</th>\n",
       "      <th>Losses</th>\n",
       "      <th>Win Percentage</th>\n",
       "      <th>Appearances</th>\n",
       "    </tr>\n",
       "  </thead>\n",
       "  <tbody>\n",
       "    <tr>\n",
       "      <th>0</th>\n",
       "      <td>Brazil</td>\n",
       "      <td>266</td>\n",
       "      <td>65</td>\n",
       "      <td>80.362538</td>\n",
       "      <td>22</td>\n",
       "    </tr>\n",
       "    <tr>\n",
       "      <th>1</th>\n",
       "      <td>Germany</td>\n",
       "      <td>242</td>\n",
       "      <td>94</td>\n",
       "      <td>72.023810</td>\n",
       "      <td>20</td>\n",
       "    </tr>\n",
       "    <tr>\n",
       "      <th>3</th>\n",
       "      <td>Italy</td>\n",
       "      <td>134</td>\n",
       "      <td>53</td>\n",
       "      <td>71.657754</td>\n",
       "      <td>17</td>\n",
       "    </tr>\n",
       "    <tr>\n",
       "      <th>9</th>\n",
       "      <td>Netherlands</td>\n",
       "      <td>102</td>\n",
       "      <td>42</td>\n",
       "      <td>70.833333</td>\n",
       "      <td>10</td>\n",
       "    </tr>\n",
       "    <tr>\n",
       "      <th>5</th>\n",
       "      <td>France</td>\n",
       "      <td>159</td>\n",
       "      <td>74</td>\n",
       "      <td>68.240343</td>\n",
       "      <td>15</td>\n",
       "    </tr>\n",
       "    <tr>\n",
       "      <th>2</th>\n",
       "      <td>Argentina</td>\n",
       "      <td>160</td>\n",
       "      <td>95</td>\n",
       "      <td>62.745098</td>\n",
       "      <td>18</td>\n",
       "    </tr>\n",
       "    <tr>\n",
       "      <th>6</th>\n",
       "      <td>Spain</td>\n",
       "      <td>108</td>\n",
       "      <td>71</td>\n",
       "      <td>60.335196</td>\n",
       "      <td>14</td>\n",
       "    </tr>\n",
       "    <tr>\n",
       "      <th>4</th>\n",
       "      <td>England</td>\n",
       "      <td>107</td>\n",
       "      <td>79</td>\n",
       "      <td>57.526882</td>\n",
       "      <td>16</td>\n",
       "    </tr>\n",
       "    <tr>\n",
       "      <th>7</th>\n",
       "      <td>Belgium</td>\n",
       "      <td>70</td>\n",
       "      <td>69</td>\n",
       "      <td>50.359712</td>\n",
       "      <td>12</td>\n",
       "    </tr>\n",
       "    <tr>\n",
       "      <th>8</th>\n",
       "      <td>Mexico</td>\n",
       "      <td>58</td>\n",
       "      <td>111</td>\n",
       "      <td>34.319527</td>\n",
       "      <td>12</td>\n",
       "    </tr>\n",
       "  </tbody>\n",
       "</table>\n",
       "</div>"
      ],
      "text/plain": [
       "          Team  Wins  Losses  Win Percentage  Appearances\n",
       "0       Brazil   266      65       80.362538           22\n",
       "1      Germany   242      94       72.023810           20\n",
       "3        Italy   134      53       71.657754           17\n",
       "9  Netherlands   102      42       70.833333           10\n",
       "5       France   159      74       68.240343           15\n",
       "2    Argentina   160      95       62.745098           18\n",
       "6        Spain   108      71       60.335196           14\n",
       "4      England   107      79       57.526882           16\n",
       "7      Belgium    70      69       50.359712           12\n",
       "8       Mexico    58     111       34.319527           12"
      ]
     },
     "execution_count": 2019,
     "metadata": {},
     "output_type": "execute_result"
    }
   ],
   "source": [
    "win_percs.head(10)\n",
    "win_percs.sort_values(by='Win Percentage', ascending=False)"
   ]
  },
  {
   "cell_type": "code",
   "execution_count": 2021,
   "id": "0420fc9d-d690-4dc7-9ad7-aaca832b66ee",
   "metadata": {},
   "outputs": [
    {
     "data": {
      "text/plain": [
       "1stHalfScorer\n",
       "null              1630\n",
       "Miroslav Klose       9\n",
       "Just Fontaine        7\n",
       "Paolo Rossi          6\n",
       "Lionel Messi         6\n",
       "                  ... \n",
       "Andriy Bal           1\n",
       "Tibor Nyilasi        1\n",
       "Gábor Pölöskei       1\n",
       "László Fazekas       1\n",
       "Mislav Oršić         1\n",
       "Name: count, Length: 757, dtype: int64"
      ]
     },
     "execution_count": 2021,
     "metadata": {},
     "output_type": "execute_result"
    }
   ],
   "source": [
    "results_FIFA['1stHalfScorer'].value_counts()"
   ]
  },
  {
   "cell_type": "code",
   "execution_count": 2023,
   "id": "e60fe3f2-0ab1-4a58-9c1b-bcfcf075eb3f",
   "metadata": {},
   "outputs": [
    {
     "data": {
      "text/plain": [
       "2ndHalfScorer\n",
       "null                    1152\n",
       "Kylian Mbappé             11\n",
       "Pelé                       9\n",
       "Gerd Müller                9\n",
       "Ronaldo                    9\n",
       "                        ... \n",
       "Miguel Ángel Neira         1\n",
       "Juan Carlos Letelier       1\n",
       "Antonín Panenka            1\n",
       "Vladimir Petrović          1\n",
       "Randal Kolo Muani          1\n",
       "Name: count, Length: 1017, dtype: int64"
      ]
     },
     "execution_count": 2023,
     "metadata": {},
     "output_type": "execute_result"
    }
   ],
   "source": [
    "results_FIFA['2ndHalfScorer'].value_counts()"
   ]
  },
  {
   "cell_type": "code",
   "execution_count": 2025,
   "id": "aa7cb55f-ca9f-49c3-b161-6c23f5c66b96",
   "metadata": {},
   "outputs": [],
   "source": [
    "results_FIFA['Clutch Goal'] = results_FIFA['scorer'].where(results_FIFA['minute'] > 85, 'null')"
   ]
  },
  {
   "cell_type": "code",
   "execution_count": 2027,
   "id": "da7a2356-9a81-479e-9c66-0e0f4a8aa640",
   "metadata": {},
   "outputs": [
    {
     "data": {
      "text/plain": [
       "Clutch Goal\n",
       "null              2417\n",
       "Gerd Müller          4\n",
       "Roberto Baggio       4\n",
       "Neymar               3\n",
       "Roger Milla          3\n",
       "                  ... \n",
       "Daniel Fonseca       1\n",
       "Bernardo Redín       1\n",
       "Ronald Koeman        1\n",
       "David Platt          1\n",
       "Kjetil Rekdal        1\n",
       "Name: count, Length: 282, dtype: int64"
      ]
     },
     "execution_count": 2027,
     "metadata": {},
     "output_type": "execute_result"
    }
   ],
   "source": [
    "results_FIFA['Clutch Goal'].value_counts()"
   ]
  },
  {
   "cell_type": "code",
   "execution_count": 2029,
   "id": "cae5ac2c-002d-4380-804e-92e0c0401221",
   "metadata": {},
   "outputs": [],
   "source": [
    "last_game_indices = results_FIFA.groupby(results_FIFA['date'].dt.year)['date'].idxmax()"
   ]
  },
  {
   "cell_type": "code",
   "execution_count": 2031,
   "id": "d555c0b9-8c23-42c7-ba1a-8b3cec8c744b",
   "metadata": {},
   "outputs": [],
   "source": [
    "last_games = results_FIFA.loc[last_game_indices]"
   ]
  },
  {
   "cell_type": "code",
   "execution_count": 2033,
   "id": "c8f9657a-5eda-4539-89fe-3d9c2ed694f4",
   "metadata": {},
   "outputs": [
    {
     "data": {
      "text/plain": [
       "winning_team\n",
       "Brazil       5\n",
       "Germany      4\n",
       "France       4\n",
       "Uruguay      2\n",
       "Italy        2\n",
       "Argentina    2\n",
       "England      1\n",
       "Sweden       1\n",
       "Spain        1\n",
       "Name: count, dtype: int64"
      ]
     },
     "execution_count": 2033,
     "metadata": {},
     "output_type": "execute_result"
    }
   ],
   "source": [
    "last_games['winning_team'].value_counts()"
   ]
  },
  {
   "cell_type": "code",
   "execution_count": 2078,
   "id": "26ec323f-2d47-4bfe-8979-dd0846d75ec7",
   "metadata": {},
   "outputs": [],
   "source": [
    "team_wins = last_games['winning_team'].value_counts()\n",
    "total_WC = last_games['date'].count()\n",
    "perc_titles = team_wins / total_WC * 100"
   ]
  },
  {
   "cell_type": "code",
   "execution_count": 2111,
   "id": "74472a29-1588-43ff-8117-743af10013e0",
   "metadata": {},
   "outputs": [],
   "source": [
    "title_percs = pd.DataFrame({'Team Wins': team_wins, 'Total Titles': total_WC, 'Title Percentage': perc_titles}, index = ['Germany', 'Brazil', 'Italy', 'Uruguay', 'France', 'Argentina', 'Sweden', 'England', 'Spain'])"
   ]
  },
  {
   "cell_type": "code",
   "execution_count": 2113,
   "id": "8177f68f-8ced-48ae-bc17-9b9adbed99f8",
   "metadata": {},
   "outputs": [
    {
     "data": {
      "text/html": [
       "<div>\n",
       "<style scoped>\n",
       "    .dataframe tbody tr th:only-of-type {\n",
       "        vertical-align: middle;\n",
       "    }\n",
       "\n",
       "    .dataframe tbody tr th {\n",
       "        vertical-align: top;\n",
       "    }\n",
       "\n",
       "    .dataframe thead th {\n",
       "        text-align: right;\n",
       "    }\n",
       "</style>\n",
       "<table border=\"1\" class=\"dataframe\">\n",
       "  <thead>\n",
       "    <tr style=\"text-align: right;\">\n",
       "      <th></th>\n",
       "      <th>Team Wins</th>\n",
       "      <th>Total Titles</th>\n",
       "      <th>Title Percentage</th>\n",
       "    </tr>\n",
       "  </thead>\n",
       "  <tbody>\n",
       "    <tr>\n",
       "      <th>Brazil</th>\n",
       "      <td>5</td>\n",
       "      <td>22</td>\n",
       "      <td>22.727273</td>\n",
       "    </tr>\n",
       "    <tr>\n",
       "      <th>Germany</th>\n",
       "      <td>4</td>\n",
       "      <td>22</td>\n",
       "      <td>18.181818</td>\n",
       "    </tr>\n",
       "    <tr>\n",
       "      <th>France</th>\n",
       "      <td>4</td>\n",
       "      <td>22</td>\n",
       "      <td>18.181818</td>\n",
       "    </tr>\n",
       "    <tr>\n",
       "      <th>Italy</th>\n",
       "      <td>2</td>\n",
       "      <td>22</td>\n",
       "      <td>9.090909</td>\n",
       "    </tr>\n",
       "    <tr>\n",
       "      <th>Uruguay</th>\n",
       "      <td>2</td>\n",
       "      <td>22</td>\n",
       "      <td>9.090909</td>\n",
       "    </tr>\n",
       "    <tr>\n",
       "      <th>Argentina</th>\n",
       "      <td>2</td>\n",
       "      <td>22</td>\n",
       "      <td>9.090909</td>\n",
       "    </tr>\n",
       "    <tr>\n",
       "      <th>Sweden</th>\n",
       "      <td>1</td>\n",
       "      <td>22</td>\n",
       "      <td>4.545455</td>\n",
       "    </tr>\n",
       "    <tr>\n",
       "      <th>England</th>\n",
       "      <td>1</td>\n",
       "      <td>22</td>\n",
       "      <td>4.545455</td>\n",
       "    </tr>\n",
       "    <tr>\n",
       "      <th>Spain</th>\n",
       "      <td>1</td>\n",
       "      <td>22</td>\n",
       "      <td>4.545455</td>\n",
       "    </tr>\n",
       "  </tbody>\n",
       "</table>\n",
       "</div>"
      ],
      "text/plain": [
       "           Team Wins  Total Titles  Title Percentage\n",
       "Brazil             5            22         22.727273\n",
       "Germany            4            22         18.181818\n",
       "France             4            22         18.181818\n",
       "Italy              2            22          9.090909\n",
       "Uruguay            2            22          9.090909\n",
       "Argentina          2            22          9.090909\n",
       "Sweden             1            22          4.545455\n",
       "England            1            22          4.545455\n",
       "Spain              1            22          4.545455"
      ]
     },
     "execution_count": 2113,
     "metadata": {},
     "output_type": "execute_result"
    }
   ],
   "source": [
    "title_percs.sort_values(by='Team Wins', ascending=False)"
   ]
  },
  {
   "cell_type": "code",
   "execution_count": null,
   "id": "095053ce-c288-467f-9892-7944b2abac4d",
   "metadata": {},
   "outputs": [],
   "source": []
  }
 ],
 "metadata": {
  "kernelspec": {
   "display_name": "Python 3 (ipykernel)",
   "language": "python",
   "name": "python3"
  },
  "language_info": {
   "codemirror_mode": {
    "name": "ipython",
    "version": 3
   },
   "file_extension": ".py",
   "mimetype": "text/x-python",
   "name": "python",
   "nbconvert_exporter": "python",
   "pygments_lexer": "ipython3",
   "version": "3.11.5"
  }
 },
 "nbformat": 4,
 "nbformat_minor": 5
}
